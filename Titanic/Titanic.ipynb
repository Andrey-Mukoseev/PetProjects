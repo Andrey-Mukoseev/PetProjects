{
 "cells": [
  {
   "cell_type": "markdown",
   "id": "f1f79d30",
   "metadata": {},
   "source": [
    "## EDA and predictions on Titanic's dataset"
   ]
  },
  {
   "cell_type": "markdown",
   "id": "02535c95",
   "metadata": {},
   "source": [
    "В данной работе рассматривался набор данных, взятый с сайта kaggle.com. Над ним была произведена предобратка данных, небольшая часть исследовательского анализа, а также создание новых признаков. \n",
    "\n",
    "Также был рассмотрен тюнинг модели случайного леса для предсказания целевого признака (`Survived`). На тестовом наборе даннх метрика accuracy достигла 0.76."
   ]
  },
  {
   "cell_type": "markdown",
   "id": "2fae1142",
   "metadata": {},
   "source": [
    "Описание данных:\n",
    "1. `PassengerId` - ID пассажира;\n",
    "2. `Survived` - выжил ли пассажир или нет (0=нет, 1=да);\n",
    "3. `Pclass` - класс билета;\n",
    "4. `Name` - имя пассажира;\n",
    "5. `Sex` - пол пассажира;\n",
    "6. `Age` - возраст пассажира;\n",
    "7. `SibSp` - количество братьев и сестёр/супругов на борту Титаника;\n",
    "8. `Parch` - количество родителей/детей на борту Титаника;\n",
    "9. `Ticket` - идентификатор билета;\n",
    "10. `Fare` - затраты пассажира;\n",
    "11. `Cabin` - номер каюты;\n",
    "12. `Embarked` - порт посадки (C = Шербур, Q = Квинстаун, S = Саутгемптон)."
   ]
  },
  {
   "cell_type": "code",
   "execution_count": 1,
   "id": "aaf92be5",
   "metadata": {
    "_cell_guid": "b1076dfc-b9ad-4769-8c92-a6c4dae69d19",
    "_uuid": "8f2839f25d086af736a60e9eeb907d3b93b6e0e5",
    "execution": {
     "iopub.execute_input": "2023-08-19T14:18:00.636224Z",
     "iopub.status.busy": "2023-08-19T14:18:00.635911Z",
     "iopub.status.idle": "2023-08-19T14:18:06.284520Z",
     "shell.execute_reply": "2023-08-19T14:18:06.283039Z"
    },
    "papermill": {
     "duration": 5.664361,
     "end_time": "2023-08-19T14:18:06.287458",
     "exception": false,
     "start_time": "2023-08-19T14:18:00.623097",
     "status": "completed"
    },
    "tags": []
   },
   "outputs": [],
   "source": [
    "import numpy as np \n",
    "import pandas as pd \n",
    "import seaborn as sns\n",
    "import matplotlib.pyplot as plt\n",
    "from sklearn.model_selection import train_test_split, GridSearchCV, RandomizedSearchCV\n",
    "from sklearn.compose import ColumnTransformer\n",
    "from sklearn.preprocessing import StandardScaler, LabelEncoder, OneHotEncoder\n",
    "from sklearn.pipeline import Pipeline\n",
    "from sklearn.ensemble import RandomForestClassifier\n",
    "from sklearn.metrics import accuracy_score as accuracy\n",
    "import warnings \n",
    "warnings.filterwarnings('ignore')"
   ]
  },
  {
   "cell_type": "markdown",
   "id": "c4aa3af3",
   "metadata": {},
   "source": [
    "### Первичный анализ данных"
   ]
  },
  {
   "cell_type": "code",
   "execution_count": 2,
   "id": "5b4154a6",
   "metadata": {},
   "outputs": [],
   "source": [
    "# Вывод основной информации о наборе данных\n",
    "def ds_info(ds):\n",
    "    print(f'Количество записей в данных: {ds.shape[0]}')\n",
    "    print(f'Количество признаков:{ds.shape[1]}')\n",
    "    print('-------------------------------------------')\n",
    "    print('Основная информация о датасете:')\n",
    "    print('')\n",
    "    ds.info()\n",
    "    print('-------------------------------------------')\n",
    "    print('Структура данных:')\n",
    "    display(ds.head())"
   ]
  },
  {
   "cell_type": "code",
   "execution_count": 3,
   "id": "a9493328",
   "metadata": {
    "execution": {
     "iopub.execute_input": "2023-08-19T14:18:06.308672Z",
     "iopub.status.busy": "2023-08-19T14:18:06.307939Z",
     "iopub.status.idle": "2023-08-19T14:18:06.342710Z",
     "shell.execute_reply": "2023-08-19T14:18:06.341225Z"
    },
    "papermill": {
     "duration": 0.048486,
     "end_time": "2023-08-19T14:18:06.345408",
     "exception": false,
     "start_time": "2023-08-19T14:18:06.296922",
     "status": "completed"
    },
    "tags": []
   },
   "outputs": [],
   "source": [
    "train_df = pd.read_csv('train.csv')\n",
    "test_df = pd.read_csv('test.csv')"
   ]
  },
  {
   "cell_type": "code",
   "execution_count": 4,
   "id": "eb850592",
   "metadata": {},
   "outputs": [
    {
     "name": "stdout",
     "output_type": "stream",
     "text": [
      "Количество записей в данных: 891\n",
      "Количество признаков:12\n",
      "-------------------------------------------\n",
      "Основная информация о датасете:\n",
      "\n",
      "<class 'pandas.core.frame.DataFrame'>\n",
      "RangeIndex: 891 entries, 0 to 890\n",
      "Data columns (total 12 columns):\n",
      " #   Column       Non-Null Count  Dtype  \n",
      "---  ------       --------------  -----  \n",
      " 0   PassengerId  891 non-null    int64  \n",
      " 1   Survived     891 non-null    int64  \n",
      " 2   Pclass       891 non-null    int64  \n",
      " 3   Name         891 non-null    object \n",
      " 4   Sex          891 non-null    object \n",
      " 5   Age          714 non-null    float64\n",
      " 6   SibSp        891 non-null    int64  \n",
      " 7   Parch        891 non-null    int64  \n",
      " 8   Ticket       891 non-null    object \n",
      " 9   Fare         891 non-null    float64\n",
      " 10  Cabin        204 non-null    object \n",
      " 11  Embarked     889 non-null    object \n",
      "dtypes: float64(2), int64(5), object(5)\n",
      "memory usage: 83.7+ KB\n",
      "-------------------------------------------\n",
      "Структура данных:\n"
     ]
    },
    {
     "data": {
      "text/html": [
       "<div>\n",
       "<style scoped>\n",
       "    .dataframe tbody tr th:only-of-type {\n",
       "        vertical-align: middle;\n",
       "    }\n",
       "\n",
       "    .dataframe tbody tr th {\n",
       "        vertical-align: top;\n",
       "    }\n",
       "\n",
       "    .dataframe thead th {\n",
       "        text-align: right;\n",
       "    }\n",
       "</style>\n",
       "<table border=\"1\" class=\"dataframe\">\n",
       "  <thead>\n",
       "    <tr style=\"text-align: right;\">\n",
       "      <th></th>\n",
       "      <th>PassengerId</th>\n",
       "      <th>Survived</th>\n",
       "      <th>Pclass</th>\n",
       "      <th>Name</th>\n",
       "      <th>Sex</th>\n",
       "      <th>Age</th>\n",
       "      <th>SibSp</th>\n",
       "      <th>Parch</th>\n",
       "      <th>Ticket</th>\n",
       "      <th>Fare</th>\n",
       "      <th>Cabin</th>\n",
       "      <th>Embarked</th>\n",
       "    </tr>\n",
       "  </thead>\n",
       "  <tbody>\n",
       "    <tr>\n",
       "      <th>0</th>\n",
       "      <td>1</td>\n",
       "      <td>0</td>\n",
       "      <td>3</td>\n",
       "      <td>Braund, Mr. Owen Harris</td>\n",
       "      <td>male</td>\n",
       "      <td>22.0</td>\n",
       "      <td>1</td>\n",
       "      <td>0</td>\n",
       "      <td>A/5 21171</td>\n",
       "      <td>7.2500</td>\n",
       "      <td>NaN</td>\n",
       "      <td>S</td>\n",
       "    </tr>\n",
       "    <tr>\n",
       "      <th>1</th>\n",
       "      <td>2</td>\n",
       "      <td>1</td>\n",
       "      <td>1</td>\n",
       "      <td>Cumings, Mrs. John Bradley (Florence Briggs Th...</td>\n",
       "      <td>female</td>\n",
       "      <td>38.0</td>\n",
       "      <td>1</td>\n",
       "      <td>0</td>\n",
       "      <td>PC 17599</td>\n",
       "      <td>71.2833</td>\n",
       "      <td>C85</td>\n",
       "      <td>C</td>\n",
       "    </tr>\n",
       "    <tr>\n",
       "      <th>2</th>\n",
       "      <td>3</td>\n",
       "      <td>1</td>\n",
       "      <td>3</td>\n",
       "      <td>Heikkinen, Miss. Laina</td>\n",
       "      <td>female</td>\n",
       "      <td>26.0</td>\n",
       "      <td>0</td>\n",
       "      <td>0</td>\n",
       "      <td>STON/O2. 3101282</td>\n",
       "      <td>7.9250</td>\n",
       "      <td>NaN</td>\n",
       "      <td>S</td>\n",
       "    </tr>\n",
       "    <tr>\n",
       "      <th>3</th>\n",
       "      <td>4</td>\n",
       "      <td>1</td>\n",
       "      <td>1</td>\n",
       "      <td>Futrelle, Mrs. Jacques Heath (Lily May Peel)</td>\n",
       "      <td>female</td>\n",
       "      <td>35.0</td>\n",
       "      <td>1</td>\n",
       "      <td>0</td>\n",
       "      <td>113803</td>\n",
       "      <td>53.1000</td>\n",
       "      <td>C123</td>\n",
       "      <td>S</td>\n",
       "    </tr>\n",
       "    <tr>\n",
       "      <th>4</th>\n",
       "      <td>5</td>\n",
       "      <td>0</td>\n",
       "      <td>3</td>\n",
       "      <td>Allen, Mr. William Henry</td>\n",
       "      <td>male</td>\n",
       "      <td>35.0</td>\n",
       "      <td>0</td>\n",
       "      <td>0</td>\n",
       "      <td>373450</td>\n",
       "      <td>8.0500</td>\n",
       "      <td>NaN</td>\n",
       "      <td>S</td>\n",
       "    </tr>\n",
       "  </tbody>\n",
       "</table>\n",
       "</div>"
      ],
      "text/plain": [
       "   PassengerId  Survived  Pclass  \\\n",
       "0            1         0       3   \n",
       "1            2         1       1   \n",
       "2            3         1       3   \n",
       "3            4         1       1   \n",
       "4            5         0       3   \n",
       "\n",
       "                                                Name     Sex   Age  SibSp  \\\n",
       "0                            Braund, Mr. Owen Harris    male  22.0      1   \n",
       "1  Cumings, Mrs. John Bradley (Florence Briggs Th...  female  38.0      1   \n",
       "2                             Heikkinen, Miss. Laina  female  26.0      0   \n",
       "3       Futrelle, Mrs. Jacques Heath (Lily May Peel)  female  35.0      1   \n",
       "4                           Allen, Mr. William Henry    male  35.0      0   \n",
       "\n",
       "   Parch            Ticket     Fare Cabin Embarked  \n",
       "0      0         A/5 21171   7.2500   NaN        S  \n",
       "1      0          PC 17599  71.2833   C85        C  \n",
       "2      0  STON/O2. 3101282   7.9250   NaN        S  \n",
       "3      0            113803  53.1000  C123        S  \n",
       "4      0            373450   8.0500   NaN        S  "
      ]
     },
     "metadata": {},
     "output_type": "display_data"
    }
   ],
   "source": [
    "ds_info(train_df)"
   ]
  },
  {
   "cell_type": "code",
   "execution_count": 5,
   "id": "280fe1ef",
   "metadata": {},
   "outputs": [
    {
     "name": "stdout",
     "output_type": "stream",
     "text": [
      "Количество записей в данных: 418\n",
      "Количество признаков:11\n",
      "-------------------------------------------\n",
      "Основная информация о датасете:\n",
      "\n",
      "<class 'pandas.core.frame.DataFrame'>\n",
      "RangeIndex: 418 entries, 0 to 417\n",
      "Data columns (total 11 columns):\n",
      " #   Column       Non-Null Count  Dtype  \n",
      "---  ------       --------------  -----  \n",
      " 0   PassengerId  418 non-null    int64  \n",
      " 1   Pclass       418 non-null    int64  \n",
      " 2   Name         418 non-null    object \n",
      " 3   Sex          418 non-null    object \n",
      " 4   Age          332 non-null    float64\n",
      " 5   SibSp        418 non-null    int64  \n",
      " 6   Parch        418 non-null    int64  \n",
      " 7   Ticket       418 non-null    object \n",
      " 8   Fare         417 non-null    float64\n",
      " 9   Cabin        91 non-null     object \n",
      " 10  Embarked     418 non-null    object \n",
      "dtypes: float64(2), int64(4), object(5)\n",
      "memory usage: 36.1+ KB\n",
      "-------------------------------------------\n",
      "Структура данных:\n"
     ]
    },
    {
     "data": {
      "text/html": [
       "<div>\n",
       "<style scoped>\n",
       "    .dataframe tbody tr th:only-of-type {\n",
       "        vertical-align: middle;\n",
       "    }\n",
       "\n",
       "    .dataframe tbody tr th {\n",
       "        vertical-align: top;\n",
       "    }\n",
       "\n",
       "    .dataframe thead th {\n",
       "        text-align: right;\n",
       "    }\n",
       "</style>\n",
       "<table border=\"1\" class=\"dataframe\">\n",
       "  <thead>\n",
       "    <tr style=\"text-align: right;\">\n",
       "      <th></th>\n",
       "      <th>PassengerId</th>\n",
       "      <th>Pclass</th>\n",
       "      <th>Name</th>\n",
       "      <th>Sex</th>\n",
       "      <th>Age</th>\n",
       "      <th>SibSp</th>\n",
       "      <th>Parch</th>\n",
       "      <th>Ticket</th>\n",
       "      <th>Fare</th>\n",
       "      <th>Cabin</th>\n",
       "      <th>Embarked</th>\n",
       "    </tr>\n",
       "  </thead>\n",
       "  <tbody>\n",
       "    <tr>\n",
       "      <th>0</th>\n",
       "      <td>892</td>\n",
       "      <td>3</td>\n",
       "      <td>Kelly, Mr. James</td>\n",
       "      <td>male</td>\n",
       "      <td>34.5</td>\n",
       "      <td>0</td>\n",
       "      <td>0</td>\n",
       "      <td>330911</td>\n",
       "      <td>7.8292</td>\n",
       "      <td>NaN</td>\n",
       "      <td>Q</td>\n",
       "    </tr>\n",
       "    <tr>\n",
       "      <th>1</th>\n",
       "      <td>893</td>\n",
       "      <td>3</td>\n",
       "      <td>Wilkes, Mrs. James (Ellen Needs)</td>\n",
       "      <td>female</td>\n",
       "      <td>47.0</td>\n",
       "      <td>1</td>\n",
       "      <td>0</td>\n",
       "      <td>363272</td>\n",
       "      <td>7.0000</td>\n",
       "      <td>NaN</td>\n",
       "      <td>S</td>\n",
       "    </tr>\n",
       "    <tr>\n",
       "      <th>2</th>\n",
       "      <td>894</td>\n",
       "      <td>2</td>\n",
       "      <td>Myles, Mr. Thomas Francis</td>\n",
       "      <td>male</td>\n",
       "      <td>62.0</td>\n",
       "      <td>0</td>\n",
       "      <td>0</td>\n",
       "      <td>240276</td>\n",
       "      <td>9.6875</td>\n",
       "      <td>NaN</td>\n",
       "      <td>Q</td>\n",
       "    </tr>\n",
       "    <tr>\n",
       "      <th>3</th>\n",
       "      <td>895</td>\n",
       "      <td>3</td>\n",
       "      <td>Wirz, Mr. Albert</td>\n",
       "      <td>male</td>\n",
       "      <td>27.0</td>\n",
       "      <td>0</td>\n",
       "      <td>0</td>\n",
       "      <td>315154</td>\n",
       "      <td>8.6625</td>\n",
       "      <td>NaN</td>\n",
       "      <td>S</td>\n",
       "    </tr>\n",
       "    <tr>\n",
       "      <th>4</th>\n",
       "      <td>896</td>\n",
       "      <td>3</td>\n",
       "      <td>Hirvonen, Mrs. Alexander (Helga E Lindqvist)</td>\n",
       "      <td>female</td>\n",
       "      <td>22.0</td>\n",
       "      <td>1</td>\n",
       "      <td>1</td>\n",
       "      <td>3101298</td>\n",
       "      <td>12.2875</td>\n",
       "      <td>NaN</td>\n",
       "      <td>S</td>\n",
       "    </tr>\n",
       "  </tbody>\n",
       "</table>\n",
       "</div>"
      ],
      "text/plain": [
       "   PassengerId  Pclass                                          Name     Sex  \\\n",
       "0          892       3                              Kelly, Mr. James    male   \n",
       "1          893       3              Wilkes, Mrs. James (Ellen Needs)  female   \n",
       "2          894       2                     Myles, Mr. Thomas Francis    male   \n",
       "3          895       3                              Wirz, Mr. Albert    male   \n",
       "4          896       3  Hirvonen, Mrs. Alexander (Helga E Lindqvist)  female   \n",
       "\n",
       "    Age  SibSp  Parch   Ticket     Fare Cabin Embarked  \n",
       "0  34.5      0      0   330911   7.8292   NaN        Q  \n",
       "1  47.0      1      0   363272   7.0000   NaN        S  \n",
       "2  62.0      0      0   240276   9.6875   NaN        Q  \n",
       "3  27.0      0      0   315154   8.6625   NaN        S  \n",
       "4  22.0      1      1  3101298  12.2875   NaN        S  "
      ]
     },
     "metadata": {},
     "output_type": "display_data"
    }
   ],
   "source": [
    "ds_info(test_df)"
   ]
  },
  {
   "cell_type": "markdown",
   "id": "16f28ceb",
   "metadata": {
    "papermill": {
     "duration": 0.009285,
     "end_time": "2023-08-19T14:18:06.533938",
     "exception": false,
     "start_time": "2023-08-19T14:18:06.524653",
     "status": "completed"
    },
    "tags": []
   },
   "source": [
    "### Предобработка данных"
   ]
  },
  {
   "cell_type": "markdown",
   "id": "853d1bd1",
   "metadata": {},
   "source": [
    "Предобработку данных начнем с поиска пропусков в `train_df`"
   ]
  },
  {
   "cell_type": "code",
   "execution_count": 6,
   "id": "3f2ddc6d",
   "metadata": {},
   "outputs": [
    {
     "data": {
      "text/html": [
       "<style type=\"text/css\">\n",
       "#T_ecab3_row0_col0, #T_ecab3_row1_col0, #T_ecab3_row2_col0, #T_ecab3_row3_col0, #T_ecab3_row4_col0, #T_ecab3_row6_col0, #T_ecab3_row7_col0, #T_ecab3_row8_col0, #T_ecab3_row9_col0, #T_ecab3_row11_col0 {\n",
       "  background-color: #fff7fb;\n",
       "  color: #000000;\n",
       "}\n",
       "#T_ecab3_row5_col0 {\n",
       "  background-color: #ced0e6;\n",
       "  color: #000000;\n",
       "}\n",
       "#T_ecab3_row10_col0 {\n",
       "  background-color: #023858;\n",
       "  color: #f1f1f1;\n",
       "}\n",
       "</style>\n",
       "<table id=\"T_ecab3\">\n",
       "  <thead>\n",
       "    <tr>\n",
       "      <th class=\"blank level0\" >&nbsp;</th>\n",
       "      <th id=\"T_ecab3_level0_col0\" class=\"col_heading level0 col0\" >доля пропусков</th>\n",
       "    </tr>\n",
       "  </thead>\n",
       "  <tbody>\n",
       "    <tr>\n",
       "      <th id=\"T_ecab3_level0_row0\" class=\"row_heading level0 row0\" >PassengerId</th>\n",
       "      <td id=\"T_ecab3_row0_col0\" class=\"data row0 col0\" >0.000000</td>\n",
       "    </tr>\n",
       "    <tr>\n",
       "      <th id=\"T_ecab3_level0_row1\" class=\"row_heading level0 row1\" >Survived</th>\n",
       "      <td id=\"T_ecab3_row1_col0\" class=\"data row1 col0\" >0.000000</td>\n",
       "    </tr>\n",
       "    <tr>\n",
       "      <th id=\"T_ecab3_level0_row2\" class=\"row_heading level0 row2\" >Pclass</th>\n",
       "      <td id=\"T_ecab3_row2_col0\" class=\"data row2 col0\" >0.000000</td>\n",
       "    </tr>\n",
       "    <tr>\n",
       "      <th id=\"T_ecab3_level0_row3\" class=\"row_heading level0 row3\" >Name</th>\n",
       "      <td id=\"T_ecab3_row3_col0\" class=\"data row3 col0\" >0.000000</td>\n",
       "    </tr>\n",
       "    <tr>\n",
       "      <th id=\"T_ecab3_level0_row4\" class=\"row_heading level0 row4\" >Sex</th>\n",
       "      <td id=\"T_ecab3_row4_col0\" class=\"data row4 col0\" >0.000000</td>\n",
       "    </tr>\n",
       "    <tr>\n",
       "      <th id=\"T_ecab3_level0_row5\" class=\"row_heading level0 row5\" >Age</th>\n",
       "      <td id=\"T_ecab3_row5_col0\" class=\"data row5 col0\" >0.198653</td>\n",
       "    </tr>\n",
       "    <tr>\n",
       "      <th id=\"T_ecab3_level0_row6\" class=\"row_heading level0 row6\" >SibSp</th>\n",
       "      <td id=\"T_ecab3_row6_col0\" class=\"data row6 col0\" >0.000000</td>\n",
       "    </tr>\n",
       "    <tr>\n",
       "      <th id=\"T_ecab3_level0_row7\" class=\"row_heading level0 row7\" >Parch</th>\n",
       "      <td id=\"T_ecab3_row7_col0\" class=\"data row7 col0\" >0.000000</td>\n",
       "    </tr>\n",
       "    <tr>\n",
       "      <th id=\"T_ecab3_level0_row8\" class=\"row_heading level0 row8\" >Ticket</th>\n",
       "      <td id=\"T_ecab3_row8_col0\" class=\"data row8 col0\" >0.000000</td>\n",
       "    </tr>\n",
       "    <tr>\n",
       "      <th id=\"T_ecab3_level0_row9\" class=\"row_heading level0 row9\" >Fare</th>\n",
       "      <td id=\"T_ecab3_row9_col0\" class=\"data row9 col0\" >0.000000</td>\n",
       "    </tr>\n",
       "    <tr>\n",
       "      <th id=\"T_ecab3_level0_row10\" class=\"row_heading level0 row10\" >Cabin</th>\n",
       "      <td id=\"T_ecab3_row10_col0\" class=\"data row10 col0\" >0.771044</td>\n",
       "    </tr>\n",
       "    <tr>\n",
       "      <th id=\"T_ecab3_level0_row11\" class=\"row_heading level0 row11\" >Embarked</th>\n",
       "      <td id=\"T_ecab3_row11_col0\" class=\"data row11 col0\" >0.002245</td>\n",
       "    </tr>\n",
       "  </tbody>\n",
       "</table>\n"
      ],
      "text/plain": [
       "<pandas.io.formats.style.Styler at 0x26789afb1d0>"
      ]
     },
     "execution_count": 6,
     "metadata": {},
     "output_type": "execute_result"
    }
   ],
   "source": [
    "pd.DataFrame(train_df.isna().mean(), index=train_df.columns, columns=['доля пропусков']).style.background_gradient()"
   ]
  },
  {
   "cell_type": "markdown",
   "id": "11fe62ae",
   "metadata": {},
   "source": [
    "Заполним пропуски в столбце с возрастом. У пассажиров женского пола выделим две возрастные группы. Это можно сделать по приставке `Mrs` и `Miss`. Пропуски будем заполнять медианным значением. Создадим соответствующую функцию."
   ]
  },
  {
   "cell_type": "code",
   "execution_count": 7,
   "id": "5824d8fa",
   "metadata": {},
   "outputs": [],
   "source": [
    "def female_nan(data):\n",
    "    median_mrs = 0\n",
    "    median_miss = 0\n",
    "    mrs = []\n",
    "    miss = []\n",
    "    female = data[data['Sex'] == 'female'].\\\n",
    "             dropna(subset=['Age']).reset_index()\n",
    "    for i in range(len(female)):                    # подсчет медианных значений\n",
    "        if (('Mrs.' in female['Name'].loc[i]) | ('Ms.' in female['Name'].loc[i])):\n",
    "            mrs.append(female['Age'].loc[i])\n",
    "        if 'Miss.' in female['Name'].loc[i]:\n",
    "            miss.append(female['Age'].loc[i])\n",
    "    median_mrs = np.median(mrs)\n",
    "    median_miss = np.median(miss)\n",
    "    for i in range(len(data)):                  # заполнение пропущенных значений\n",
    "        if ('Mrs.' in data['Name'].loc[i]) & (data['Age'].isna()[i] == True):\n",
    "            data['Age'].loc[i] = median_mrs\n",
    "        if (('Miss' in data['Name'].loc[i]) | ('Ms' in data['Name'].loc[i])) & (data['Age'].isna()[i] == True):\n",
    "            data['Age'].loc[i] = median_miss\n",
    "    return data"
   ]
  },
  {
   "cell_type": "code",
   "execution_count": 8,
   "id": "228b55c0",
   "metadata": {},
   "outputs": [],
   "source": [
    "train_df = female_nan(train_df)"
   ]
  },
  {
   "cell_type": "markdown",
   "id": "1d238028",
   "metadata": {},
   "source": [
    "У пассажиров мужского пола выделим две возрастные группы. Это можно сделать по приставке `Mr` и `Master`. Пропуски будем заполнять медианным значением. Создадим соответствующую функцию."
   ]
  },
  {
   "cell_type": "code",
   "execution_count": 9,
   "id": "37ec0328",
   "metadata": {},
   "outputs": [],
   "source": [
    "def male_nan(data):\n",
    "    median_mr = 0\n",
    "    median_master = 0\n",
    "    mr = []\n",
    "    master = []\n",
    "    male = train_df[train_df['Sex'] == 'male'].\\\n",
    "           dropna(subset=['Age']).reset_index()\n",
    "    for i in range(len(male)):                    # подсчет медианных значений\n",
    "        if 'Master.' in male['Name'].loc[i]:\n",
    "            master.append(male['Age'].loc[i])\n",
    "        if 'Mr.' in male['Name'].loc[i]:\n",
    "            mr.append(male['Age'].loc[i])\n",
    "    median_mr = np.median(mr)\n",
    "    median_master = np.median(master)\n",
    "    for i in range(len(data)):                  # заполнение пропущенных значений\n",
    "        if ('Master.' in data['Name'].loc[i]) & (data['Age'].isna()[i] == True):\n",
    "            data['Age'].loc[i] = median_master\n",
    "        if (('Mr.' in data['Name'].loc[i]) | ('Master.' not in data['Name'].loc[i])) & (data['Age'].isna()[i] == True):\n",
    "            data['Age'].loc[i] = median_mr\n",
    "    return data"
   ]
  },
  {
   "cell_type": "code",
   "execution_count": 10,
   "id": "375fee70",
   "metadata": {},
   "outputs": [],
   "source": [
    "train_df = male_nan(train_df)"
   ]
  },
  {
   "cell_type": "markdown",
   "id": "46c09663",
   "metadata": {},
   "source": [
    "Удалим признак `Cabin` из-за большого количества пропусков, которые невозможно восстановить, а также неинформативности данного признака. Пропуски в `Embarked` заполним самым частым значением."
   ]
  },
  {
   "cell_type": "code",
   "execution_count": 11,
   "id": "763202db",
   "metadata": {},
   "outputs": [],
   "source": [
    "train_df = train_df.drop(columns=['Cabin'])\n",
    "train_df['Embarked'] = train_df['Embarked'].fillna(train_df['Embarked'].value_counts().index[0])"
   ]
  },
  {
   "cell_type": "markdown",
   "id": "5a49d7b4",
   "metadata": {},
   "source": [
    "Проверим результат заполнения пропусков"
   ]
  },
  {
   "cell_type": "code",
   "execution_count": 12,
   "id": "5fc9b309",
   "metadata": {},
   "outputs": [
    {
     "data": {
      "text/html": [
       "<style type=\"text/css\">\n",
       "#T_29548_row0_col0, #T_29548_row1_col0, #T_29548_row2_col0, #T_29548_row3_col0, #T_29548_row4_col0, #T_29548_row5_col0, #T_29548_row6_col0, #T_29548_row7_col0, #T_29548_row8_col0, #T_29548_row9_col0, #T_29548_row10_col0 {\n",
       "  background-color: #fff7fb;\n",
       "  color: #000000;\n",
       "}\n",
       "</style>\n",
       "<table id=\"T_29548\">\n",
       "  <thead>\n",
       "    <tr>\n",
       "      <th class=\"blank level0\" >&nbsp;</th>\n",
       "      <th id=\"T_29548_level0_col0\" class=\"col_heading level0 col0\" >доля пропусков</th>\n",
       "    </tr>\n",
       "  </thead>\n",
       "  <tbody>\n",
       "    <tr>\n",
       "      <th id=\"T_29548_level0_row0\" class=\"row_heading level0 row0\" >PassengerId</th>\n",
       "      <td id=\"T_29548_row0_col0\" class=\"data row0 col0\" >0.000000</td>\n",
       "    </tr>\n",
       "    <tr>\n",
       "      <th id=\"T_29548_level0_row1\" class=\"row_heading level0 row1\" >Survived</th>\n",
       "      <td id=\"T_29548_row1_col0\" class=\"data row1 col0\" >0.000000</td>\n",
       "    </tr>\n",
       "    <tr>\n",
       "      <th id=\"T_29548_level0_row2\" class=\"row_heading level0 row2\" >Pclass</th>\n",
       "      <td id=\"T_29548_row2_col0\" class=\"data row2 col0\" >0.000000</td>\n",
       "    </tr>\n",
       "    <tr>\n",
       "      <th id=\"T_29548_level0_row3\" class=\"row_heading level0 row3\" >Name</th>\n",
       "      <td id=\"T_29548_row3_col0\" class=\"data row3 col0\" >0.000000</td>\n",
       "    </tr>\n",
       "    <tr>\n",
       "      <th id=\"T_29548_level0_row4\" class=\"row_heading level0 row4\" >Sex</th>\n",
       "      <td id=\"T_29548_row4_col0\" class=\"data row4 col0\" >0.000000</td>\n",
       "    </tr>\n",
       "    <tr>\n",
       "      <th id=\"T_29548_level0_row5\" class=\"row_heading level0 row5\" >Age</th>\n",
       "      <td id=\"T_29548_row5_col0\" class=\"data row5 col0\" >0.000000</td>\n",
       "    </tr>\n",
       "    <tr>\n",
       "      <th id=\"T_29548_level0_row6\" class=\"row_heading level0 row6\" >SibSp</th>\n",
       "      <td id=\"T_29548_row6_col0\" class=\"data row6 col0\" >0.000000</td>\n",
       "    </tr>\n",
       "    <tr>\n",
       "      <th id=\"T_29548_level0_row7\" class=\"row_heading level0 row7\" >Parch</th>\n",
       "      <td id=\"T_29548_row7_col0\" class=\"data row7 col0\" >0.000000</td>\n",
       "    </tr>\n",
       "    <tr>\n",
       "      <th id=\"T_29548_level0_row8\" class=\"row_heading level0 row8\" >Ticket</th>\n",
       "      <td id=\"T_29548_row8_col0\" class=\"data row8 col0\" >0.000000</td>\n",
       "    </tr>\n",
       "    <tr>\n",
       "      <th id=\"T_29548_level0_row9\" class=\"row_heading level0 row9\" >Fare</th>\n",
       "      <td id=\"T_29548_row9_col0\" class=\"data row9 col0\" >0.000000</td>\n",
       "    </tr>\n",
       "    <tr>\n",
       "      <th id=\"T_29548_level0_row10\" class=\"row_heading level0 row10\" >Embarked</th>\n",
       "      <td id=\"T_29548_row10_col0\" class=\"data row10 col0\" >0.000000</td>\n",
       "    </tr>\n",
       "  </tbody>\n",
       "</table>\n"
      ],
      "text/plain": [
       "<pandas.io.formats.style.Styler at 0x26790289890>"
      ]
     },
     "execution_count": 12,
     "metadata": {},
     "output_type": "execute_result"
    }
   ],
   "source": [
    "pd.DataFrame(train_df.isna().mean(), index=train_df.columns, columns=['доля пропусков']).style.background_gradient()"
   ]
  },
  {
   "cell_type": "markdown",
   "id": "3111967f",
   "metadata": {},
   "source": [
    "Аналогичную процедуру проведем для тестового набора данных. Проверим наличие пропусков."
   ]
  },
  {
   "cell_type": "code",
   "execution_count": 13,
   "id": "04727311",
   "metadata": {},
   "outputs": [
    {
     "data": {
      "text/html": [
       "<style type=\"text/css\">\n",
       "#T_c237d_row0_col0, #T_c237d_row1_col0, #T_c237d_row2_col0, #T_c237d_row3_col0, #T_c237d_row5_col0, #T_c237d_row6_col0, #T_c237d_row7_col0, #T_c237d_row8_col0, #T_c237d_row10_col0 {\n",
       "  background-color: #fff7fb;\n",
       "  color: #000000;\n",
       "}\n",
       "#T_c237d_row4_col0 {\n",
       "  background-color: #cccfe5;\n",
       "  color: #000000;\n",
       "}\n",
       "#T_c237d_row9_col0 {\n",
       "  background-color: #023858;\n",
       "  color: #f1f1f1;\n",
       "}\n",
       "</style>\n",
       "<table id=\"T_c237d\">\n",
       "  <thead>\n",
       "    <tr>\n",
       "      <th class=\"blank level0\" >&nbsp;</th>\n",
       "      <th id=\"T_c237d_level0_col0\" class=\"col_heading level0 col0\" >доля пропусков</th>\n",
       "    </tr>\n",
       "  </thead>\n",
       "  <tbody>\n",
       "    <tr>\n",
       "      <th id=\"T_c237d_level0_row0\" class=\"row_heading level0 row0\" >PassengerId</th>\n",
       "      <td id=\"T_c237d_row0_col0\" class=\"data row0 col0\" >0.000000</td>\n",
       "    </tr>\n",
       "    <tr>\n",
       "      <th id=\"T_c237d_level0_row1\" class=\"row_heading level0 row1\" >Pclass</th>\n",
       "      <td id=\"T_c237d_row1_col0\" class=\"data row1 col0\" >0.000000</td>\n",
       "    </tr>\n",
       "    <tr>\n",
       "      <th id=\"T_c237d_level0_row2\" class=\"row_heading level0 row2\" >Name</th>\n",
       "      <td id=\"T_c237d_row2_col0\" class=\"data row2 col0\" >0.000000</td>\n",
       "    </tr>\n",
       "    <tr>\n",
       "      <th id=\"T_c237d_level0_row3\" class=\"row_heading level0 row3\" >Sex</th>\n",
       "      <td id=\"T_c237d_row3_col0\" class=\"data row3 col0\" >0.000000</td>\n",
       "    </tr>\n",
       "    <tr>\n",
       "      <th id=\"T_c237d_level0_row4\" class=\"row_heading level0 row4\" >Age</th>\n",
       "      <td id=\"T_c237d_row4_col0\" class=\"data row4 col0\" >0.205742</td>\n",
       "    </tr>\n",
       "    <tr>\n",
       "      <th id=\"T_c237d_level0_row5\" class=\"row_heading level0 row5\" >SibSp</th>\n",
       "      <td id=\"T_c237d_row5_col0\" class=\"data row5 col0\" >0.000000</td>\n",
       "    </tr>\n",
       "    <tr>\n",
       "      <th id=\"T_c237d_level0_row6\" class=\"row_heading level0 row6\" >Parch</th>\n",
       "      <td id=\"T_c237d_row6_col0\" class=\"data row6 col0\" >0.000000</td>\n",
       "    </tr>\n",
       "    <tr>\n",
       "      <th id=\"T_c237d_level0_row7\" class=\"row_heading level0 row7\" >Ticket</th>\n",
       "      <td id=\"T_c237d_row7_col0\" class=\"data row7 col0\" >0.000000</td>\n",
       "    </tr>\n",
       "    <tr>\n",
       "      <th id=\"T_c237d_level0_row8\" class=\"row_heading level0 row8\" >Fare</th>\n",
       "      <td id=\"T_c237d_row8_col0\" class=\"data row8 col0\" >0.002392</td>\n",
       "    </tr>\n",
       "    <tr>\n",
       "      <th id=\"T_c237d_level0_row9\" class=\"row_heading level0 row9\" >Cabin</th>\n",
       "      <td id=\"T_c237d_row9_col0\" class=\"data row9 col0\" >0.782297</td>\n",
       "    </tr>\n",
       "    <tr>\n",
       "      <th id=\"T_c237d_level0_row10\" class=\"row_heading level0 row10\" >Embarked</th>\n",
       "      <td id=\"T_c237d_row10_col0\" class=\"data row10 col0\" >0.000000</td>\n",
       "    </tr>\n",
       "  </tbody>\n",
       "</table>\n"
      ],
      "text/plain": [
       "<pandas.io.formats.style.Styler at 0x267902c8b10>"
      ]
     },
     "execution_count": 13,
     "metadata": {},
     "output_type": "execute_result"
    }
   ],
   "source": [
    "pd.DataFrame(test_df.isna().mean(), index=test_df.columns, columns=['доля пропусков']).style.background_gradient()"
   ]
  },
  {
   "cell_type": "code",
   "execution_count": 14,
   "id": "3eb0a8d2",
   "metadata": {},
   "outputs": [],
   "source": [
    "test_df = female_nan(test_df)\n",
    "test_df = male_nan(test_df)\n",
    "test_df = test_df.drop(columns=['Cabin'])"
   ]
  },
  {
   "cell_type": "markdown",
   "id": "d6018a2c",
   "metadata": {},
   "source": [
    "Посмотрим на пропуски в столбце `Fare`, в котором отображены траты пассажиров"
   ]
  },
  {
   "cell_type": "code",
   "execution_count": 15,
   "id": "8ee4b440",
   "metadata": {},
   "outputs": [
    {
     "data": {
      "text/html": [
       "<div>\n",
       "<style scoped>\n",
       "    .dataframe tbody tr th:only-of-type {\n",
       "        vertical-align: middle;\n",
       "    }\n",
       "\n",
       "    .dataframe tbody tr th {\n",
       "        vertical-align: top;\n",
       "    }\n",
       "\n",
       "    .dataframe thead th {\n",
       "        text-align: right;\n",
       "    }\n",
       "</style>\n",
       "<table border=\"1\" class=\"dataframe\">\n",
       "  <thead>\n",
       "    <tr style=\"text-align: right;\">\n",
       "      <th></th>\n",
       "      <th>PassengerId</th>\n",
       "      <th>Pclass</th>\n",
       "      <th>Name</th>\n",
       "      <th>Sex</th>\n",
       "      <th>Age</th>\n",
       "      <th>SibSp</th>\n",
       "      <th>Parch</th>\n",
       "      <th>Ticket</th>\n",
       "      <th>Fare</th>\n",
       "      <th>Embarked</th>\n",
       "    </tr>\n",
       "  </thead>\n",
       "  <tbody>\n",
       "    <tr>\n",
       "      <th>152</th>\n",
       "      <td>1044</td>\n",
       "      <td>3</td>\n",
       "      <td>Storey, Mr. Thomas</td>\n",
       "      <td>male</td>\n",
       "      <td>60.5</td>\n",
       "      <td>0</td>\n",
       "      <td>0</td>\n",
       "      <td>3701</td>\n",
       "      <td>NaN</td>\n",
       "      <td>S</td>\n",
       "    </tr>\n",
       "  </tbody>\n",
       "</table>\n",
       "</div>"
      ],
      "text/plain": [
       "     PassengerId  Pclass                Name   Sex   Age  SibSp  Parch Ticket  \\\n",
       "152         1044       3  Storey, Mr. Thomas  male  60.5      0      0   3701   \n",
       "\n",
       "     Fare Embarked  \n",
       "152   NaN        S  "
      ]
     },
     "execution_count": 15,
     "metadata": {},
     "output_type": "execute_result"
    }
   ],
   "source": [
    "test_df[test_df['Fare'].isna()]"
   ]
  },
  {
   "cell_type": "markdown",
   "id": "86d14784",
   "metadata": {},
   "source": [
    "Заполним этот пропуск медианным значенем среди трат тех пассажиров, которые путешествовали тем же классом."
   ]
  },
  {
   "cell_type": "code",
   "execution_count": 16,
   "id": "8112cadc",
   "metadata": {},
   "outputs": [],
   "source": [
    "test_df['Fare'] = test_df['Fare'].fillna(test_df.groupby(by='Pclass').mean().loc[3]['Fare'])"
   ]
  },
  {
   "cell_type": "markdown",
   "id": "268b419a",
   "metadata": {
    "execution": {
     "iopub.execute_input": "2023-08-19T14:18:07.310387Z",
     "iopub.status.busy": "2023-08-19T14:18:07.310025Z",
     "iopub.status.idle": "2023-08-19T14:18:07.324785Z",
     "shell.execute_reply": "2023-08-19T14:18:07.323266Z"
    },
    "papermill": {
     "duration": 0.02974,
     "end_time": "2023-08-19T14:18:07.327495",
     "exception": false,
     "start_time": "2023-08-19T14:18:07.297755",
     "status": "completed"
    },
    "tags": []
   },
   "source": [
    "Проверим теперь пропуски в тестовом наборе данных"
   ]
  },
  {
   "cell_type": "code",
   "execution_count": 17,
   "id": "2403f2a8",
   "metadata": {},
   "outputs": [
    {
     "data": {
      "text/html": [
       "<style type=\"text/css\">\n",
       "#T_c1c31_row0_col0, #T_c1c31_row1_col0, #T_c1c31_row2_col0, #T_c1c31_row3_col0, #T_c1c31_row4_col0, #T_c1c31_row5_col0, #T_c1c31_row6_col0, #T_c1c31_row7_col0, #T_c1c31_row8_col0, #T_c1c31_row9_col0 {\n",
       "  background-color: #fff7fb;\n",
       "  color: #000000;\n",
       "}\n",
       "</style>\n",
       "<table id=\"T_c1c31\">\n",
       "  <thead>\n",
       "    <tr>\n",
       "      <th class=\"blank level0\" >&nbsp;</th>\n",
       "      <th id=\"T_c1c31_level0_col0\" class=\"col_heading level0 col0\" >доля пропусков</th>\n",
       "    </tr>\n",
       "  </thead>\n",
       "  <tbody>\n",
       "    <tr>\n",
       "      <th id=\"T_c1c31_level0_row0\" class=\"row_heading level0 row0\" >PassengerId</th>\n",
       "      <td id=\"T_c1c31_row0_col0\" class=\"data row0 col0\" >0.000000</td>\n",
       "    </tr>\n",
       "    <tr>\n",
       "      <th id=\"T_c1c31_level0_row1\" class=\"row_heading level0 row1\" >Pclass</th>\n",
       "      <td id=\"T_c1c31_row1_col0\" class=\"data row1 col0\" >0.000000</td>\n",
       "    </tr>\n",
       "    <tr>\n",
       "      <th id=\"T_c1c31_level0_row2\" class=\"row_heading level0 row2\" >Name</th>\n",
       "      <td id=\"T_c1c31_row2_col0\" class=\"data row2 col0\" >0.000000</td>\n",
       "    </tr>\n",
       "    <tr>\n",
       "      <th id=\"T_c1c31_level0_row3\" class=\"row_heading level0 row3\" >Sex</th>\n",
       "      <td id=\"T_c1c31_row3_col0\" class=\"data row3 col0\" >0.000000</td>\n",
       "    </tr>\n",
       "    <tr>\n",
       "      <th id=\"T_c1c31_level0_row4\" class=\"row_heading level0 row4\" >Age</th>\n",
       "      <td id=\"T_c1c31_row4_col0\" class=\"data row4 col0\" >0.000000</td>\n",
       "    </tr>\n",
       "    <tr>\n",
       "      <th id=\"T_c1c31_level0_row5\" class=\"row_heading level0 row5\" >SibSp</th>\n",
       "      <td id=\"T_c1c31_row5_col0\" class=\"data row5 col0\" >0.000000</td>\n",
       "    </tr>\n",
       "    <tr>\n",
       "      <th id=\"T_c1c31_level0_row6\" class=\"row_heading level0 row6\" >Parch</th>\n",
       "      <td id=\"T_c1c31_row6_col0\" class=\"data row6 col0\" >0.000000</td>\n",
       "    </tr>\n",
       "    <tr>\n",
       "      <th id=\"T_c1c31_level0_row7\" class=\"row_heading level0 row7\" >Ticket</th>\n",
       "      <td id=\"T_c1c31_row7_col0\" class=\"data row7 col0\" >0.000000</td>\n",
       "    </tr>\n",
       "    <tr>\n",
       "      <th id=\"T_c1c31_level0_row8\" class=\"row_heading level0 row8\" >Fare</th>\n",
       "      <td id=\"T_c1c31_row8_col0\" class=\"data row8 col0\" >0.000000</td>\n",
       "    </tr>\n",
       "    <tr>\n",
       "      <th id=\"T_c1c31_level0_row9\" class=\"row_heading level0 row9\" >Embarked</th>\n",
       "      <td id=\"T_c1c31_row9_col0\" class=\"data row9 col0\" >0.000000</td>\n",
       "    </tr>\n",
       "  </tbody>\n",
       "</table>\n"
      ],
      "text/plain": [
       "<pandas.io.formats.style.Styler at 0x267904da8d0>"
      ]
     },
     "execution_count": 17,
     "metadata": {},
     "output_type": "execute_result"
    }
   ],
   "source": [
    "pd.DataFrame(test_df.isna().mean(), index=test_df.columns, columns=['доля пропусков']).style.background_gradient()"
   ]
  },
  {
   "cell_type": "markdown",
   "id": "6b75216c",
   "metadata": {},
   "source": [
    "Проверим также данные на дубликаты"
   ]
  },
  {
   "cell_type": "code",
   "execution_count": 18,
   "id": "12aee68e",
   "metadata": {},
   "outputs": [
    {
     "name": "stdout",
     "output_type": "stream",
     "text": [
      "Количество дубликатов в тренировочном наборе данных: 0\n",
      "Количество дубликатов в тестовом наборе данных: 0\n"
     ]
    }
   ],
   "source": [
    "print(f'Количество дубликатов в тренировочном наборе данных: {train_df.duplicated().sum()}')\n",
    "print(f'Количество дубликатов в тестовом наборе данных: {test_df.duplicated().sum()}')"
   ]
  },
  {
   "cell_type": "markdown",
   "id": "a63851e6",
   "metadata": {
    "papermill": {
     "duration": 0.01112,
     "end_time": "2023-08-19T14:18:07.349907",
     "exception": false,
     "start_time": "2023-08-19T14:18:07.338787",
     "status": "completed"
    },
    "tags": []
   },
   "source": [
    "### Анализ признаков набора данных"
   ]
  },
  {
   "cell_type": "markdown",
   "id": "c9b6193a",
   "metadata": {},
   "source": [
    "Посмотрим на распределение пассажиров по признаку выживаемости."
   ]
  },
  {
   "cell_type": "code",
   "execution_count": 19,
   "id": "0656299c",
   "metadata": {},
   "outputs": [
    {
     "data": {
      "image/png": "[encoded data removed]",
      "text/plain": [
       "<Figure size 640x480 with 1 Axes>"
      ]
     },
     "metadata": {},
     "output_type": "display_data"
    }
   ],
   "source": [
    "plt.pie(train_df['Survived'].value_counts(), labels=['не выжили', 'выжили'], autopct='%.0f%%')\n",
    "plt.title('Распределение числа пассажиров по выживаемости', fontdict = {'fontsize' : 10})\n",
    "plt.show()"
   ]
  },
  {
   "cell_type": "markdown",
   "id": "990d8346",
   "metadata": {},
   "source": [
    "Теперь посмотрим на выживаемость в отношении к полу пассажира"
   ]
  },
  {
   "cell_type": "code",
   "execution_count": 20,
   "id": "7710ecfd",
   "metadata": {},
   "outputs": [
    {
     "data": {
      "image/png": "[encoded data removed]",
      "text/plain": [
       "<Figure size 640x480 with 1 Axes>"
      ]
     },
     "metadata": {},
     "output_type": "display_data"
    }
   ],
   "source": [
    "hist = sns.histplot(data=train_df, x=\"Sex\", hue='Survived', multiple='stack')\n",
    "hist.set(title='Выживаемость пассажиров по их полу', xlabel='Пол пассажира', ylabel='Количество пассажиров')\n",
    "plt.show()"
   ]
  },
  {
   "cell_type": "markdown",
   "id": "eb8eaa74",
   "metadata": {},
   "source": [
    "Поработаем с признаками тренировочного набора данных. Для начала удалим неинформативные признаки `PassengerId`, `Name`, `Ticket`, `Cabin`. Затем вместо признака `Age` введем признак `Age_cat`, который будет относить пассажира к той или иной возрастной категории."
   ]
  },
  {
   "cell_type": "code",
   "execution_count": 21,
   "id": "c6e1c24f",
   "metadata": {},
   "outputs": [],
   "source": [
    "# Функция для создания возрастных категорий\n",
    "def new_age(data):\n",
    "    data['Age_cat'] = np.ones(shape=(data.shape[0], 1))\n",
    "    data['Age_cat'] = data['Age_cat'].where(data['Age'] >= 16, '0-15')\n",
    "    data['Age_cat'] = data['Age_cat'].where((data['Age'] < 16) | (data['Age'] >= 25), '16-24')\n",
    "    data['Age_cat'] = data['Age_cat'].where((data['Age'] < 25) | (data['Age'] >= 35), '25-34')\n",
    "    data['Age_cat'] = data['Age_cat'].where((data['Age'] < 35) | (data['Age'] >= 50), '35-49')\n",
    "    data['Age_cat'] = data['Age_cat'].where((data['Age'] < 50) | (data['Age'] >= 65), '50-64')\n",
    "    data['Age_cat'] = data['Age_cat'].where((data['Age'] < 65), '65-...')\n",
    "    data = data.drop(columns=['Age'])\n",
    "    return data"
   ]
  },
  {
   "cell_type": "code",
   "execution_count": 22,
   "id": "d4efede3",
   "metadata": {},
   "outputs": [],
   "source": [
    "train_df = train_df.drop(columns=['PassengerId', 'Name', 'Ticket'])\n",
    "train_df = new_age(train_df)"
   ]
  },
  {
   "cell_type": "markdown",
   "id": "054a4ab7",
   "metadata": {},
   "source": [
    "Заменим также признаки `SibSp` и `Parch` на `Total_rel`, обозначающий общее число родственников на борту Титаника"
   ]
  },
  {
   "cell_type": "code",
   "execution_count": 23,
   "id": "964b32dc",
   "metadata": {},
   "outputs": [],
   "source": [
    "train_df['Total_rel'] = train_df['SibSp'] + train_df['Parch']\n",
    "train_df = train_df.drop(['SibSp', 'Parch'], axis=1)"
   ]
  },
  {
   "cell_type": "markdown",
   "id": "3e36f42c",
   "metadata": {},
   "source": [
    "Аналогичное изменение признаков проведем и в тестовом наборе данных"
   ]
  },
  {
   "cell_type": "code",
   "execution_count": 24,
   "id": "4ff26599",
   "metadata": {
    "execution": {
     "iopub.execute_input": "2023-08-19T14:18:07.439370Z",
     "iopub.status.busy": "2023-08-19T14:18:07.438999Z",
     "iopub.status.idle": "2023-08-19T14:18:07.446539Z",
     "shell.execute_reply": "2023-08-19T14:18:07.445440Z"
    },
    "papermill": {
     "duration": 0.021264,
     "end_time": "2023-08-19T14:18:07.448456",
     "exception": false,
     "start_time": "2023-08-19T14:18:07.427192",
     "status": "completed"
    },
    "tags": []
   },
   "outputs": [],
   "source": [
    "test_df_copy = test_df.copy()\n",
    "test_df = test_df.drop(columns=['PassengerId', 'Name', 'Ticket'])\n",
    "test_df = new_age(test_df)\n",
    "test_df['Total_rel'] = test_df['SibSp'] + test_df['Parch']\n",
    "test_df = test_df.drop(['SibSp', 'Parch'], axis=1)"
   ]
  },
  {
   "cell_type": "markdown",
   "id": "27a53029",
   "metadata": {},
   "source": [
    "Посмотрим на выживаемость по возратсным категориям"
   ]
  },
  {
   "cell_type": "code",
   "execution_count": 25,
   "id": "39753ea4",
   "metadata": {},
   "outputs": [
    {
     "data": {
      "image/png": "[encoded data removed]",
      "text/plain": [
       "<Figure size 640x480 with 1 Axes>"
      ]
     },
     "metadata": {},
     "output_type": "display_data"
    }
   ],
   "source": [
    "hist1 = sns.histplot(data=train_df, x=\"Age_cat\", hue='Survived', multiple='stack')\n",
    "hist1.set(title='Выживаемость пассажиров по возрастной категории пассажира', \n",
    "         xlabel='Возрастная категория пассажиров', ylabel='Количество пассажиров')\n",
    "plt.show()"
   ]
  },
  {
   "cell_type": "markdown",
   "id": "c646c9f9",
   "metadata": {},
   "source": [
    "### Подбор гиперпараметров модели"
   ]
  },
  {
   "cell_type": "markdown",
   "id": "076cbf07",
   "metadata": {},
   "source": [
    "Нам необходимо научиться предсказывать, погиб ли пассажир или нет. Выделим целевой признак `Survived`."
   ]
  },
  {
   "cell_type": "code",
   "execution_count": 26,
   "id": "1818bf93",
   "metadata": {
    "execution": {
     "iopub.execute_input": "2023-08-19T14:18:07.766661Z",
     "iopub.status.busy": "2023-08-19T14:18:07.766323Z",
     "iopub.status.idle": "2023-08-19T14:18:07.771210Z",
     "shell.execute_reply": "2023-08-19T14:18:07.770123Z"
    },
    "papermill": {
     "duration": 0.020926,
     "end_time": "2023-08-19T14:18:07.773736",
     "exception": false,
     "start_time": "2023-08-19T14:18:07.752810",
     "status": "completed"
    },
    "tags": []
   },
   "outputs": [],
   "source": [
    "cat = ['Pclass', 'Sex', 'Embarked', 'Age_cat'] # категориальные данные\n",
    "num = ['Fare', 'Total_rel'] # количественные признаки"
   ]
  },
  {
   "cell_type": "code",
   "execution_count": 27,
   "id": "977b02db",
   "metadata": {
    "execution": {
     "iopub.execute_input": "2023-08-19T14:18:07.731602Z",
     "iopub.status.busy": "2023-08-19T14:18:07.731295Z",
     "iopub.status.idle": "2023-08-19T14:18:07.738961Z",
     "shell.execute_reply": "2023-08-19T14:18:07.737878Z"
    },
    "papermill": {
     "duration": 0.022151,
     "end_time": "2023-08-19T14:18:07.741086",
     "exception": false,
     "start_time": "2023-08-19T14:18:07.718935",
     "status": "completed"
    },
    "tags": []
   },
   "outputs": [],
   "source": [
    "train_features = train_df.drop(['Survived'], axis=1)\n",
    "train_target = train_df['Survived']"
   ]
  },
  {
   "cell_type": "markdown",
   "id": "7f4ce7ed",
   "metadata": {},
   "source": [
    "Выделим категориальные и количественные признаки"
   ]
  },
  {
   "cell_type": "code",
   "execution_count": 28,
   "id": "30e0b61a",
   "metadata": {
    "execution": {
     "iopub.execute_input": "2023-08-19T14:18:07.871397Z",
     "iopub.status.busy": "2023-08-19T14:18:07.871070Z",
     "iopub.status.idle": "2023-08-19T14:18:07.877252Z",
     "shell.execute_reply": "2023-08-19T14:18:07.875959Z"
    },
    "papermill": {
     "duration": 0.022809,
     "end_time": "2023-08-19T14:18:07.880308",
     "exception": false,
     "start_time": "2023-08-19T14:18:07.857499",
     "status": "completed"
    },
    "tags": []
   },
   "outputs": [],
   "source": [
    "preprocessor = ColumnTransformer([\n",
    "    ('cat', OneHotEncoder(drop='first', handle_unknown='ignore', sparse=False), cat),\n",
    "    ('num', StandardScaler(), num)\n",
    "])\n",
    "\n",
    "pipe_forest = Pipeline([\n",
    "    ('preprocessor', preprocessor),\n",
    "    ('model', RandomForestClassifier(random_state=0, class_weight='balanced'))\n",
    "])"
   ]
  },
  {
   "cell_type": "markdown",
   "id": "90bde4ec",
   "metadata": {},
   "source": [
    "Вначале используем RandomizedSearchCV для поиска наиболее лучших промежутков гиперпараметров"
   ]
  },
  {
   "cell_type": "code",
   "execution_count": 29,
   "id": "97600f86",
   "metadata": {
    "execution": {
     "iopub.execute_input": "2023-08-19T14:18:07.906589Z",
     "iopub.status.busy": "2023-08-19T14:18:07.906220Z",
     "iopub.status.idle": "2023-08-19T14:18:07.913816Z",
     "shell.execute_reply": "2023-08-19T14:18:07.912616Z"
    },
    "papermill": {
     "duration": 0.022867,
     "end_time": "2023-08-19T14:18:07.915918",
     "exception": false,
     "start_time": "2023-08-19T14:18:07.893051",
     "status": "completed"
    },
    "tags": []
   },
   "outputs": [
    {
     "name": "stdout",
     "output_type": "stream",
     "text": [
      "Fitting 5 folds for each of 200 candidates, totalling 1000 fits\n"
     ]
    },
    {
     "data": {
      "text/html": [
       "<style>#sk-container-id-1 {color: black;background-color: white;}#sk-container-id-1 pre{padding: 0;}#sk-container-id-1 div.sk-toggleable {background-color: white;}#sk-container-id-1 label.sk-toggleable__label {cursor: pointer;display: block;width: 100%;margin-bottom: 0;padding: 0.3em;box-sizing: border-box;text-align: center;}#sk-container-id-1 label.sk-toggleable__label-arrow:before {content: \"▸\";float: left;margin-right: 0.25em;color: #696969;}#sk-container-id-1 label.sk-toggleable__label-arrow:hover:before {color: black;}#sk-container-id-1 div.sk-estimator:hover label.sk-toggleable__label-arrow:before {color: black;}#sk-container-id-1 div.sk-toggleable__content {max-height: 0;max-width: 0;overflow: hidden;text-align: left;background-color: #f0f8ff;}#sk-container-id-1 div.sk-toggleable__content pre {margin: 0.2em;color: black;border-radius: 0.25em;background-color: #f0f8ff;}#sk-container-id-1 input.sk-toggleable__control:checked~div.sk-toggleable__content {max-height: 200px;max-width: 100%;overflow: auto;}#sk-container-id-1 input.sk-toggleable__control:checked~label.sk-toggleable__label-arrow:before {content: \"▾\";}#sk-container-id-1 div.sk-estimator input.sk-toggleable__control:checked~label.sk-toggleable__label {background-color: #d4ebff;}#sk-container-id-1 div.sk-label input.sk-toggleable__control:checked~label.sk-toggleable__label {background-color: #d4ebff;}#sk-container-id-1 input.sk-hidden--visually {border: 0;clip: rect(1px 1px 1px 1px);clip: rect(1px, 1px, 1px, 1px);height: 1px;margin: -1px;overflow: hidden;padding: 0;position: absolute;width: 1px;}#sk-container-id-1 div.sk-estimator {font-family: monospace;background-color: #f0f8ff;border: 1px dotted black;border-radius: 0.25em;box-sizing: border-box;margin-bottom: 0.5em;}#sk-container-id-1 div.sk-estimator:hover {background-color: #d4ebff;}#sk-container-id-1 div.sk-parallel-item::after {content: \"\";width: 100%;border-bottom: 1px solid gray;flex-grow: 1;}#sk-container-id-1 div.sk-label:hover label.sk-toggleable__label {background-color: #d4ebff;}#sk-container-id-1 div.sk-serial::before {content: \"\";position: absolute;border-left: 1px solid gray;box-sizing: border-box;top: 0;bottom: 0;left: 50%;z-index: 0;}#sk-container-id-1 div.sk-serial {display: flex;flex-direction: column;align-items: center;background-color: white;padding-right: 0.2em;padding-left: 0.2em;position: relative;}#sk-container-id-1 div.sk-item {position: relative;z-index: 1;}#sk-container-id-1 div.sk-parallel {display: flex;align-items: stretch;justify-content: center;background-color: white;position: relative;}#sk-container-id-1 div.sk-item::before, #sk-container-id-1 div.sk-parallel-item::before {content: \"\";position: absolute;border-left: 1px solid gray;box-sizing: border-box;top: 0;bottom: 0;left: 50%;z-index: -1;}#sk-container-id-1 div.sk-parallel-item {display: flex;flex-direction: column;z-index: 1;position: relative;background-color: white;}#sk-container-id-1 div.sk-parallel-item:first-child::after {align-self: flex-end;width: 50%;}#sk-container-id-1 div.sk-parallel-item:last-child::after {align-self: flex-start;width: 50%;}#sk-container-id-1 div.sk-parallel-item:only-child::after {width: 0;}#sk-container-id-1 div.sk-dashed-wrapped {border: 1px dashed gray;margin: 0 0.4em 0.5em 0.4em;box-sizing: border-box;padding-bottom: 0.4em;background-color: white;}#sk-container-id-1 div.sk-label label {font-family: monospace;font-weight: bold;display: inline-block;line-height: 1.2em;}#sk-container-id-1 div.sk-label-container {text-align: center;}#sk-container-id-1 div.sk-container {/* jupyter's `normalize.less` sets `[hidden] { display: none; }` but bootstrap.min.css set `[hidden] { display: none !important; }` so we also need the `!important` here to be able to override the default hidden behavior on the sphinx rendered scikit-learn.org. See: https://github.com/scikit-learn/scikit-learn/issues/21755 */display: inline-block !important;position: relative;}#sk-container-id-1 div.sk-text-repr-fallback {display: none;}</style><div id=\"sk-container-id-1\" class=\"sk-top-container\"><div class=\"sk-text-repr-fallback\"><pre>RandomizedSearchCV(cv=5,\n",
       "                   estimator=Pipeline(steps=[(&#x27;preprocessor&#x27;,\n",
       "                                              ColumnTransformer(transformers=[(&#x27;cat&#x27;,\n",
       "                                                                               OneHotEncoder(drop=&#x27;first&#x27;,\n",
       "                                                                                             handle_unknown=&#x27;ignore&#x27;,\n",
       "                                                                                             sparse=False),\n",
       "                                                                               [&#x27;Pclass&#x27;,\n",
       "                                                                                &#x27;Sex&#x27;,\n",
       "                                                                                &#x27;Embarked&#x27;,\n",
       "                                                                                &#x27;Age_cat&#x27;]),\n",
       "                                                                              (&#x27;num&#x27;,\n",
       "                                                                               StandardScaler(),\n",
       "                                                                               [&#x27;Fare&#x27;,\n",
       "                                                                                &#x27;Total_rel&#x27;])])),\n",
       "                                             (&#x27;model&#x27;,\n",
       "                                              RandomForestClassifier(class_weight=&#x27;balanced&#x27;,\n",
       "                                                                     random_state=0))]),\n",
       "                   n_iter=200,\n",
       "                   param_distributions={&#x27;model__criterion&#x27;: [&#x27;gini&#x27;, &#x27;entropy&#x27;,\n",
       "                                                             &#x27;log_loss&#x27;],\n",
       "                                        &#x27;model__max_depth&#x27;: range(1, 30),\n",
       "                                        &#x27;model__max_features&#x27;: [&#x27;sqrt&#x27;, &#x27;log2&#x27;],\n",
       "                                        &#x27;model__min_samples_leaf&#x27;: range(2, 10),\n",
       "                                        &#x27;model__min_samples_split&#x27;: range(2, 10),\n",
       "                                        &#x27;model__n_estimators&#x27;: range(1, 600, 49)},\n",
       "                   random_state=0, scoring=&#x27;accuracy&#x27;, verbose=1)</pre><b>In a Jupyter environment, please rerun this cell to show the HTML representation or trust the notebook. <br />On GitHub, the HTML representation is unable to render, please try loading this page with nbviewer.org.</b></div><div class=\"sk-container\" hidden><div class=\"sk-item sk-dashed-wrapped\"><div class=\"sk-label-container\"><div class=\"sk-label sk-toggleable\"><input class=\"sk-toggleable__control sk-hidden--visually\" id=\"sk-estimator-id-1\" type=\"checkbox\" ><label for=\"sk-estimator-id-1\" class=\"sk-toggleable__label sk-toggleable__label-arrow\">RandomizedSearchCV</label><div class=\"sk-toggleable__content\"><pre>RandomizedSearchCV(cv=5,\n",
       "                   estimator=Pipeline(steps=[(&#x27;preprocessor&#x27;,\n",
       "                                              ColumnTransformer(transformers=[(&#x27;cat&#x27;,\n",
       "                                                                               OneHotEncoder(drop=&#x27;first&#x27;,\n",
       "                                                                                             handle_unknown=&#x27;ignore&#x27;,\n",
       "                                                                                             sparse=False),\n",
       "                                                                               [&#x27;Pclass&#x27;,\n",
       "                                                                                &#x27;Sex&#x27;,\n",
       "                                                                                &#x27;Embarked&#x27;,\n",
       "                                                                                &#x27;Age_cat&#x27;]),\n",
       "                                                                              (&#x27;num&#x27;,\n",
       "                                                                               StandardScaler(),\n",
       "                                                                               [&#x27;Fare&#x27;,\n",
       "                                                                                &#x27;Total_rel&#x27;])])),\n",
       "                                             (&#x27;model&#x27;,\n",
       "                                              RandomForestClassifier(class_weight=&#x27;balanced&#x27;,\n",
       "                                                                     random_state=0))]),\n",
       "                   n_iter=200,\n",
       "                   param_distributions={&#x27;model__criterion&#x27;: [&#x27;gini&#x27;, &#x27;entropy&#x27;,\n",
       "                                                             &#x27;log_loss&#x27;],\n",
       "                                        &#x27;model__max_depth&#x27;: range(1, 30),\n",
       "                                        &#x27;model__max_features&#x27;: [&#x27;sqrt&#x27;, &#x27;log2&#x27;],\n",
       "                                        &#x27;model__min_samples_leaf&#x27;: range(2, 10),\n",
       "                                        &#x27;model__min_samples_split&#x27;: range(2, 10),\n",
       "                                        &#x27;model__n_estimators&#x27;: range(1, 600, 49)},\n",
       "                   random_state=0, scoring=&#x27;accuracy&#x27;, verbose=1)</pre></div></div></div><div class=\"sk-parallel\"><div class=\"sk-parallel-item\"><div class=\"sk-item\"><div class=\"sk-label-container\"><div class=\"sk-label sk-toggleable\"><input class=\"sk-toggleable__control sk-hidden--visually\" id=\"sk-estimator-id-2\" type=\"checkbox\" ><label for=\"sk-estimator-id-2\" class=\"sk-toggleable__label sk-toggleable__label-arrow\">estimator: Pipeline</label><div class=\"sk-toggleable__content\"><pre>Pipeline(steps=[(&#x27;preprocessor&#x27;,\n",
       "                 ColumnTransformer(transformers=[(&#x27;cat&#x27;,\n",
       "                                                  OneHotEncoder(drop=&#x27;first&#x27;,\n",
       "                                                                handle_unknown=&#x27;ignore&#x27;,\n",
       "                                                                sparse=False),\n",
       "                                                  [&#x27;Pclass&#x27;, &#x27;Sex&#x27;, &#x27;Embarked&#x27;,\n",
       "                                                   &#x27;Age_cat&#x27;]),\n",
       "                                                 (&#x27;num&#x27;, StandardScaler(),\n",
       "                                                  [&#x27;Fare&#x27;, &#x27;Total_rel&#x27;])])),\n",
       "                (&#x27;model&#x27;,\n",
       "                 RandomForestClassifier(class_weight=&#x27;balanced&#x27;,\n",
       "                                        random_state=0))])</pre></div></div></div><div class=\"sk-serial\"><div class=\"sk-item\"><div class=\"sk-serial\"><div class=\"sk-item sk-dashed-wrapped\"><div class=\"sk-label-container\"><div class=\"sk-label sk-toggleable\"><input class=\"sk-toggleable__control sk-hidden--visually\" id=\"sk-estimator-id-3\" type=\"checkbox\" ><label for=\"sk-estimator-id-3\" class=\"sk-toggleable__label sk-toggleable__label-arrow\">preprocessor: ColumnTransformer</label><div class=\"sk-toggleable__content\"><pre>ColumnTransformer(transformers=[(&#x27;cat&#x27;,\n",
       "                                 OneHotEncoder(drop=&#x27;first&#x27;,\n",
       "                                               handle_unknown=&#x27;ignore&#x27;,\n",
       "                                               sparse=False),\n",
       "                                 [&#x27;Pclass&#x27;, &#x27;Sex&#x27;, &#x27;Embarked&#x27;, &#x27;Age_cat&#x27;]),\n",
       "                                (&#x27;num&#x27;, StandardScaler(),\n",
       "                                 [&#x27;Fare&#x27;, &#x27;Total_rel&#x27;])])</pre></div></div></div><div class=\"sk-parallel\"><div class=\"sk-parallel-item\"><div class=\"sk-item\"><div class=\"sk-label-container\"><div class=\"sk-label sk-toggleable\"><input class=\"sk-toggleable__control sk-hidden--visually\" id=\"sk-estimator-id-4\" type=\"checkbox\" ><label for=\"sk-estimator-id-4\" class=\"sk-toggleable__label sk-toggleable__label-arrow\">cat</label><div class=\"sk-toggleable__content\"><pre>[&#x27;Pclass&#x27;, &#x27;Sex&#x27;, &#x27;Embarked&#x27;, &#x27;Age_cat&#x27;]</pre></div></div></div><div class=\"sk-serial\"><div class=\"sk-item\"><div class=\"sk-estimator sk-toggleable\"><input class=\"sk-toggleable__control sk-hidden--visually\" id=\"sk-estimator-id-5\" type=\"checkbox\" ><label for=\"sk-estimator-id-5\" class=\"sk-toggleable__label sk-toggleable__label-arrow\">OneHotEncoder</label><div class=\"sk-toggleable__content\"><pre>OneHotEncoder(drop=&#x27;first&#x27;, handle_unknown=&#x27;ignore&#x27;, sparse=False)</pre></div></div></div></div></div></div><div class=\"sk-parallel-item\"><div class=\"sk-item\"><div class=\"sk-label-container\"><div class=\"sk-label sk-toggleable\"><input class=\"sk-toggleable__control sk-hidden--visually\" id=\"sk-estimator-id-6\" type=\"checkbox\" ><label for=\"sk-estimator-id-6\" class=\"sk-toggleable__label sk-toggleable__label-arrow\">num</label><div class=\"sk-toggleable__content\"><pre>[&#x27;Fare&#x27;, &#x27;Total_rel&#x27;]</pre></div></div></div><div class=\"sk-serial\"><div class=\"sk-item\"><div class=\"sk-estimator sk-toggleable\"><input class=\"sk-toggleable__control sk-hidden--visually\" id=\"sk-estimator-id-7\" type=\"checkbox\" ><label for=\"sk-estimator-id-7\" class=\"sk-toggleable__label sk-toggleable__label-arrow\">StandardScaler</label><div class=\"sk-toggleable__content\"><pre>StandardScaler()</pre></div></div></div></div></div></div></div></div><div class=\"sk-item\"><div class=\"sk-estimator sk-toggleable\"><input class=\"sk-toggleable__control sk-hidden--visually\" id=\"sk-estimator-id-8\" type=\"checkbox\" ><label for=\"sk-estimator-id-8\" class=\"sk-toggleable__label sk-toggleable__label-arrow\">RandomForestClassifier</label><div class=\"sk-toggleable__content\"><pre>RandomForestClassifier(class_weight=&#x27;balanced&#x27;, random_state=0)</pre></div></div></div></div></div></div></div></div></div></div></div></div>"
      ],
      "text/plain": [
       "RandomizedSearchCV(cv=5,\n",
       "                   estimator=Pipeline(steps=[('preprocessor',\n",
       "                                              ColumnTransformer(transformers=[('cat',\n",
       "                                                                               OneHotEncoder(drop='first',\n",
       "                                                                                             handle_unknown='ignore',\n",
       "                                                                                             sparse=False),\n",
       "                                                                               ['Pclass',\n",
       "                                                                                'Sex',\n",
       "                                                                                'Embarked',\n",
       "                                                                                'Age_cat']),\n",
       "                                                                              ('num',\n",
       "                                                                               StandardScaler(),\n",
       "                                                                               ['Fare',\n",
       "                                                                                'Total_rel'])])),\n",
       "                                             ('model',\n",
       "                                              RandomForestClassifier(class_weight='balanced',\n",
       "                                                                     random_state=0))]),\n",
       "                   n_iter=200,\n",
       "                   param_distributions={'model__criterion': ['gini', 'entropy',\n",
       "                                                             'log_loss'],\n",
       "                                        'model__max_depth': range(1, 30),\n",
       "                                        'model__max_features': ['sqrt', 'log2'],\n",
       "                                        'model__min_samples_leaf': range(2, 10),\n",
       "                                        'model__min_samples_split': range(2, 10),\n",
       "                                        'model__n_estimators': range(1, 600, 49)},\n",
       "                   random_state=0, scoring='accuracy', verbose=1)"
      ]
     },
     "execution_count": 29,
     "metadata": {},
     "output_type": "execute_result"
    }
   ],
   "source": [
    "param_grid_rnd = {'model__n_estimators':range(1, 600, 49),\n",
    "              'model__max_depth':range(1, 30),\n",
    "              'model__criterion':['gini', 'entropy', 'log_loss'],\n",
    "              'model__min_samples_split':range(2, 10),\n",
    "              'model__min_samples_leaf':range(2, 10),\n",
    "              'model__max_features':['sqrt', 'log2']}\n",
    "\n",
    "grid_forest_rnd = RandomizedSearchCV(pipe_forest, param_grid_rnd, scoring='accuracy', \n",
    "                                     cv=5, n_iter=200, random_state=0, verbose=1)\n",
    "grid_forest_rnd.fit(train_features, train_target)"
   ]
  },
  {
   "cell_type": "markdown",
   "id": "a2894a14",
   "metadata": {},
   "source": [
    "Посмотрим на каких параметрах обучалась модель и какие метрики получала"
   ]
  },
  {
   "cell_type": "code",
   "execution_count": 30,
   "id": "9d4bfc0f",
   "metadata": {},
   "outputs": [
    {
     "data": {
      "text/html": [
       "<div>\n",
       "<style scoped>\n",
       "    .dataframe tbody tr th:only-of-type {\n",
       "        vertical-align: middle;\n",
       "    }\n",
       "\n",
       "    .dataframe tbody tr th {\n",
       "        vertical-align: top;\n",
       "    }\n",
       "\n",
       "    .dataframe thead th {\n",
       "        text-align: right;\n",
       "    }\n",
       "</style>\n",
       "<table border=\"1\" class=\"dataframe\">\n",
       "  <thead>\n",
       "    <tr style=\"text-align: right;\">\n",
       "      <th></th>\n",
       "      <th>param_model__n_estimators</th>\n",
       "      <th>param_model__min_samples_split</th>\n",
       "      <th>param_model__min_samples_leaf</th>\n",
       "      <th>param_model__max_features</th>\n",
       "      <th>param_model__max_depth</th>\n",
       "      <th>param_model__criterion</th>\n",
       "      <th>params</th>\n",
       "      <th>mean_test_score</th>\n",
       "    </tr>\n",
       "  </thead>\n",
       "  <tbody>\n",
       "    <tr>\n",
       "      <th>0</th>\n",
       "      <td>197</td>\n",
       "      <td>9</td>\n",
       "      <td>4</td>\n",
       "      <td>sqrt</td>\n",
       "      <td>27</td>\n",
       "      <td>gini</td>\n",
       "      <td>{'model__n_estimators': 197, 'model__min_sampl...</td>\n",
       "      <td>0.804745</td>\n",
       "    </tr>\n",
       "    <tr>\n",
       "      <th>1</th>\n",
       "      <td>148</td>\n",
       "      <td>3</td>\n",
       "      <td>8</td>\n",
       "      <td>log2</td>\n",
       "      <td>13</td>\n",
       "      <td>log_loss</td>\n",
       "      <td>{'model__n_estimators': 148, 'model__min_sampl...</td>\n",
       "      <td>0.796899</td>\n",
       "    </tr>\n",
       "    <tr>\n",
       "      <th>2</th>\n",
       "      <td>589</td>\n",
       "      <td>5</td>\n",
       "      <td>4</td>\n",
       "      <td>log2</td>\n",
       "      <td>29</td>\n",
       "      <td>entropy</td>\n",
       "      <td>{'model__n_estimators': 589, 'model__min_sampl...</td>\n",
       "      <td>0.804727</td>\n",
       "    </tr>\n",
       "    <tr>\n",
       "      <th>3</th>\n",
       "      <td>442</td>\n",
       "      <td>8</td>\n",
       "      <td>4</td>\n",
       "      <td>log2</td>\n",
       "      <td>1</td>\n",
       "      <td>log_loss</td>\n",
       "      <td>{'model__n_estimators': 442, 'model__min_sampl...</td>\n",
       "      <td>0.761001</td>\n",
       "    </tr>\n",
       "    <tr>\n",
       "      <th>4</th>\n",
       "      <td>148</td>\n",
       "      <td>8</td>\n",
       "      <td>5</td>\n",
       "      <td>sqrt</td>\n",
       "      <td>26</td>\n",
       "      <td>gini</td>\n",
       "      <td>{'model__n_estimators': 148, 'model__min_sampl...</td>\n",
       "      <td>0.803622</td>\n",
       "    </tr>\n",
       "  </tbody>\n",
       "</table>\n",
       "</div>"
      ],
      "text/plain": [
       "  param_model__n_estimators param_model__min_samples_split  \\\n",
       "0                       197                              9   \n",
       "1                       148                              3   \n",
       "2                       589                              5   \n",
       "3                       442                              8   \n",
       "4                       148                              8   \n",
       "\n",
       "  param_model__min_samples_leaf param_model__max_features  \\\n",
       "0                             4                      sqrt   \n",
       "1                             8                      log2   \n",
       "2                             4                      log2   \n",
       "3                             4                      log2   \n",
       "4                             5                      sqrt   \n",
       "\n",
       "  param_model__max_depth param_model__criterion  \\\n",
       "0                     27                   gini   \n",
       "1                     13               log_loss   \n",
       "2                     29                entropy   \n",
       "3                      1               log_loss   \n",
       "4                     26                   gini   \n",
       "\n",
       "                                              params  mean_test_score  \n",
       "0  {'model__n_estimators': 197, 'model__min_sampl...         0.804745  \n",
       "1  {'model__n_estimators': 148, 'model__min_sampl...         0.796899  \n",
       "2  {'model__n_estimators': 589, 'model__min_sampl...         0.804727  \n",
       "3  {'model__n_estimators': 442, 'model__min_sampl...         0.761001  \n",
       "4  {'model__n_estimators': 148, 'model__min_sampl...         0.803622  "
      ]
     },
     "execution_count": 30,
     "metadata": {},
     "output_type": "execute_result"
    }
   ],
   "source": [
    "table = pd.DataFrame(grid_forest_rnd.cv_results_).drop(['mean_fit_time', 'std_fit_time', 'mean_score_time', 'std_score_time', \n",
    "                                                       'split0_test_score', 'split1_test_score', 'split2_test_score', \n",
    "                                                       'split3_test_score', 'split4_test_score', 'std_test_score', \n",
    "                                                       'rank_test_score'], axis=1)\n",
    "table.head()"
   ]
  },
  {
   "cell_type": "code",
   "execution_count": 31,
   "id": "af201e11",
   "metadata": {},
   "outputs": [
    {
     "data": {
      "image/png": "[encoded data removed]",
      "text/plain": [
       "<Figure size 1800x1000 with 6 Axes>"
      ]
     },
     "metadata": {},
     "output_type": "display_data"
    }
   ],
   "source": [
    "fig, axes = plt.subplots(2, 3, figsize=(18, 10))\n",
    "bar1 = sns.barplot(ax=axes[0, 0], data=table, x='param_model__n_estimators', y='mean_test_score')\n",
    "bar1.set(ylim=(.7, .82), title='n_estimators')\n",
    "bar2 = sns.barplot(ax=axes[0, 1], data=table, x='param_model__min_samples_split', y='mean_test_score')\n",
    "bar2.set(ylim=(.7, .82), title='min_samples_split')\n",
    "bar3 = sns.barplot(ax=axes[0, 2], data=table, x='param_model__min_samples_leaf', y='mean_test_score')\n",
    "bar3.set(ylim=(.7, .82), title='min_samples_leaf')\n",
    "bar4 = sns.barplot(ax=axes[1, 0], data=table, x='param_model__max_features', y='mean_test_score')\n",
    "bar4.set(ylim=(.7, .82), title='max_features')\n",
    "bar5 = sns.barplot(ax=axes[1, 1], data=table, x='param_model__max_depth', y='mean_test_score')\n",
    "bar5.set(ylim=(.7, .82), title='max_depth')\n",
    "bar6 = sns.barplot(ax=axes[1, 2], data=table, x='param_model__criterion', y='mean_test_score')\n",
    "bar6.set(ylim=(.7, .82), title='criterion')\n",
    "plt.show()"
   ]
  },
  {
   "cell_type": "markdown",
   "id": "66014335",
   "metadata": {},
   "source": [
    "Сделаем некоторые комментарии. RandomizedSearchCV показал, что в рамках данной задачи для достижения наилучшего результата значение гиперпараметра `n_estimators` должно находится в промежутке от 50 до 150. Значения для `min_samples_split` рассмотрим следующие: 2, 4, 7. У гиперпараметра `min_samples_leaf` рассмотрим значения 2, 3, 4. Глубину каждого дерева подберем среди значений в промежутке от 8 до 26. Основываясь на этих выводах приступим к окончательному подбору параметров модели."
   ]
  },
  {
   "cell_type": "code",
   "execution_count": 32,
   "id": "430fba3a",
   "metadata": {
    "execution": {
     "iopub.execute_input": "2023-08-19T14:18:07.941812Z",
     "iopub.status.busy": "2023-08-19T14:18:07.941463Z",
     "iopub.status.idle": "2023-08-19T14:22:26.616931Z",
     "shell.execute_reply": "2023-08-19T14:22:26.613494Z"
    },
    "papermill": {
     "duration": 258.700043,
     "end_time": "2023-08-19T14:22:26.628172",
     "exception": false,
     "start_time": "2023-08-19T14:18:07.928129",
     "status": "completed"
    },
    "tags": []
   },
   "outputs": [
    {
     "name": "stdout",
     "output_type": "stream",
     "text": [
      "Fitting 5 folds for each of 1260 candidates, totalling 6300 fits\n",
      "{'model__criterion': 'entropy', 'model__max_depth': 14, 'model__min_samples_leaf': 2, 'model__min_samples_split': 7, 'model__n_estimators': 120} 0.8316615403929445\n"
     ]
    }
   ],
   "source": [
    "param_grid = {'model__n_estimators':range(40, 161, 20),\n",
    "              'model__max_depth':range(8, 27, 2),\n",
    "              'model__criterion':['gini', 'entropy'],\n",
    "              'model__min_samples_split':[2, 4, 7],\n",
    "              'model__min_samples_leaf':[2, 3, 4]}\n",
    "\n",
    "grid_forest = GridSearchCV(pipe_forest, param_grid, scoring='accuracy', cv=5, verbose=1)\n",
    "grid_forest.fit(train_features, train_target)\n",
    "print(grid_forest.best_params_, grid_forest.best_score_)"
   ]
  },
  {
   "cell_type": "code",
   "execution_count": 33,
   "id": "0bec667d",
   "metadata": {},
   "outputs": [
    {
     "data": {
      "text/html": [
       "<style>#sk-container-id-2 {color: black;background-color: white;}#sk-container-id-2 pre{padding: 0;}#sk-container-id-2 div.sk-toggleable {background-color: white;}#sk-container-id-2 label.sk-toggleable__label {cursor: pointer;display: block;width: 100%;margin-bottom: 0;padding: 0.3em;box-sizing: border-box;text-align: center;}#sk-container-id-2 label.sk-toggleable__label-arrow:before {content: \"▸\";float: left;margin-right: 0.25em;color: #696969;}#sk-container-id-2 label.sk-toggleable__label-arrow:hover:before {color: black;}#sk-container-id-2 div.sk-estimator:hover label.sk-toggleable__label-arrow:before {color: black;}#sk-container-id-2 div.sk-toggleable__content {max-height: 0;max-width: 0;overflow: hidden;text-align: left;background-color: #f0f8ff;}#sk-container-id-2 div.sk-toggleable__content pre {margin: 0.2em;color: black;border-radius: 0.25em;background-color: #f0f8ff;}#sk-container-id-2 input.sk-toggleable__control:checked~div.sk-toggleable__content {max-height: 200px;max-width: 100%;overflow: auto;}#sk-container-id-2 input.sk-toggleable__control:checked~label.sk-toggleable__label-arrow:before {content: \"▾\";}#sk-container-id-2 div.sk-estimator input.sk-toggleable__control:checked~label.sk-toggleable__label {background-color: #d4ebff;}#sk-container-id-2 div.sk-label input.sk-toggleable__control:checked~label.sk-toggleable__label {background-color: #d4ebff;}#sk-container-id-2 input.sk-hidden--visually {border: 0;clip: rect(1px 1px 1px 1px);clip: rect(1px, 1px, 1px, 1px);height: 1px;margin: -1px;overflow: hidden;padding: 0;position: absolute;width: 1px;}#sk-container-id-2 div.sk-estimator {font-family: monospace;background-color: #f0f8ff;border: 1px dotted black;border-radius: 0.25em;box-sizing: border-box;margin-bottom: 0.5em;}#sk-container-id-2 div.sk-estimator:hover {background-color: #d4ebff;}#sk-container-id-2 div.sk-parallel-item::after {content: \"\";width: 100%;border-bottom: 1px solid gray;flex-grow: 1;}#sk-container-id-2 div.sk-label:hover label.sk-toggleable__label {background-color: #d4ebff;}#sk-container-id-2 div.sk-serial::before {content: \"\";position: absolute;border-left: 1px solid gray;box-sizing: border-box;top: 0;bottom: 0;left: 50%;z-index: 0;}#sk-container-id-2 div.sk-serial {display: flex;flex-direction: column;align-items: center;background-color: white;padding-right: 0.2em;padding-left: 0.2em;position: relative;}#sk-container-id-2 div.sk-item {position: relative;z-index: 1;}#sk-container-id-2 div.sk-parallel {display: flex;align-items: stretch;justify-content: center;background-color: white;position: relative;}#sk-container-id-2 div.sk-item::before, #sk-container-id-2 div.sk-parallel-item::before {content: \"\";position: absolute;border-left: 1px solid gray;box-sizing: border-box;top: 0;bottom: 0;left: 50%;z-index: -1;}#sk-container-id-2 div.sk-parallel-item {display: flex;flex-direction: column;z-index: 1;position: relative;background-color: white;}#sk-container-id-2 div.sk-parallel-item:first-child::after {align-self: flex-end;width: 50%;}#sk-container-id-2 div.sk-parallel-item:last-child::after {align-self: flex-start;width: 50%;}#sk-container-id-2 div.sk-parallel-item:only-child::after {width: 0;}#sk-container-id-2 div.sk-dashed-wrapped {border: 1px dashed gray;margin: 0 0.4em 0.5em 0.4em;box-sizing: border-box;padding-bottom: 0.4em;background-color: white;}#sk-container-id-2 div.sk-label label {font-family: monospace;font-weight: bold;display: inline-block;line-height: 1.2em;}#sk-container-id-2 div.sk-label-container {text-align: center;}#sk-container-id-2 div.sk-container {/* jupyter's `normalize.less` sets `[hidden] { display: none; }` but bootstrap.min.css set `[hidden] { display: none !important; }` so we also need the `!important` here to be able to override the default hidden behavior on the sphinx rendered scikit-learn.org. See: https://github.com/scikit-learn/scikit-learn/issues/21755 */display: inline-block !important;position: relative;}#sk-container-id-2 div.sk-text-repr-fallback {display: none;}</style><div id=\"sk-container-id-2\" class=\"sk-top-container\"><div class=\"sk-text-repr-fallback\"><pre>Pipeline(steps=[(&#x27;preprocessor&#x27;,\n",
       "                 ColumnTransformer(transformers=[(&#x27;cat&#x27;,\n",
       "                                                  OneHotEncoder(drop=&#x27;first&#x27;,\n",
       "                                                                handle_unknown=&#x27;ignore&#x27;,\n",
       "                                                                sparse=False),\n",
       "                                                  [&#x27;Pclass&#x27;, &#x27;Sex&#x27;, &#x27;Embarked&#x27;,\n",
       "                                                   &#x27;Age_cat&#x27;]),\n",
       "                                                 (&#x27;num&#x27;, StandardScaler(),\n",
       "                                                  [&#x27;Fare&#x27;, &#x27;Total_rel&#x27;])])),\n",
       "                (&#x27;model&#x27;,\n",
       "                 RandomForestClassifier(class_weight=&#x27;balanced&#x27;,\n",
       "                                        criterion=&#x27;entropy&#x27;, max_depth=14,\n",
       "                                        min_samples_leaf=2, min_samples_split=7,\n",
       "                                        n_estimators=120, random_state=0))])</pre><b>In a Jupyter environment, please rerun this cell to show the HTML representation or trust the notebook. <br />On GitHub, the HTML representation is unable to render, please try loading this page with nbviewer.org.</b></div><div class=\"sk-container\" hidden><div class=\"sk-item sk-dashed-wrapped\"><div class=\"sk-label-container\"><div class=\"sk-label sk-toggleable\"><input class=\"sk-toggleable__control sk-hidden--visually\" id=\"sk-estimator-id-9\" type=\"checkbox\" ><label for=\"sk-estimator-id-9\" class=\"sk-toggleable__label sk-toggleable__label-arrow\">Pipeline</label><div class=\"sk-toggleable__content\"><pre>Pipeline(steps=[(&#x27;preprocessor&#x27;,\n",
       "                 ColumnTransformer(transformers=[(&#x27;cat&#x27;,\n",
       "                                                  OneHotEncoder(drop=&#x27;first&#x27;,\n",
       "                                                                handle_unknown=&#x27;ignore&#x27;,\n",
       "                                                                sparse=False),\n",
       "                                                  [&#x27;Pclass&#x27;, &#x27;Sex&#x27;, &#x27;Embarked&#x27;,\n",
       "                                                   &#x27;Age_cat&#x27;]),\n",
       "                                                 (&#x27;num&#x27;, StandardScaler(),\n",
       "                                                  [&#x27;Fare&#x27;, &#x27;Total_rel&#x27;])])),\n",
       "                (&#x27;model&#x27;,\n",
       "                 RandomForestClassifier(class_weight=&#x27;balanced&#x27;,\n",
       "                                        criterion=&#x27;entropy&#x27;, max_depth=14,\n",
       "                                        min_samples_leaf=2, min_samples_split=7,\n",
       "                                        n_estimators=120, random_state=0))])</pre></div></div></div><div class=\"sk-serial\"><div class=\"sk-item sk-dashed-wrapped\"><div class=\"sk-label-container\"><div class=\"sk-label sk-toggleable\"><input class=\"sk-toggleable__control sk-hidden--visually\" id=\"sk-estimator-id-10\" type=\"checkbox\" ><label for=\"sk-estimator-id-10\" class=\"sk-toggleable__label sk-toggleable__label-arrow\">preprocessor: ColumnTransformer</label><div class=\"sk-toggleable__content\"><pre>ColumnTransformer(transformers=[(&#x27;cat&#x27;,\n",
       "                                 OneHotEncoder(drop=&#x27;first&#x27;,\n",
       "                                               handle_unknown=&#x27;ignore&#x27;,\n",
       "                                               sparse=False),\n",
       "                                 [&#x27;Pclass&#x27;, &#x27;Sex&#x27;, &#x27;Embarked&#x27;, &#x27;Age_cat&#x27;]),\n",
       "                                (&#x27;num&#x27;, StandardScaler(),\n",
       "                                 [&#x27;Fare&#x27;, &#x27;Total_rel&#x27;])])</pre></div></div></div><div class=\"sk-parallel\"><div class=\"sk-parallel-item\"><div class=\"sk-item\"><div class=\"sk-label-container\"><div class=\"sk-label sk-toggleable\"><input class=\"sk-toggleable__control sk-hidden--visually\" id=\"sk-estimator-id-11\" type=\"checkbox\" ><label for=\"sk-estimator-id-11\" class=\"sk-toggleable__label sk-toggleable__label-arrow\">cat</label><div class=\"sk-toggleable__content\"><pre>[&#x27;Pclass&#x27;, &#x27;Sex&#x27;, &#x27;Embarked&#x27;, &#x27;Age_cat&#x27;]</pre></div></div></div><div class=\"sk-serial\"><div class=\"sk-item\"><div class=\"sk-estimator sk-toggleable\"><input class=\"sk-toggleable__control sk-hidden--visually\" id=\"sk-estimator-id-12\" type=\"checkbox\" ><label for=\"sk-estimator-id-12\" class=\"sk-toggleable__label sk-toggleable__label-arrow\">OneHotEncoder</label><div class=\"sk-toggleable__content\"><pre>OneHotEncoder(drop=&#x27;first&#x27;, handle_unknown=&#x27;ignore&#x27;, sparse=False)</pre></div></div></div></div></div></div><div class=\"sk-parallel-item\"><div class=\"sk-item\"><div class=\"sk-label-container\"><div class=\"sk-label sk-toggleable\"><input class=\"sk-toggleable__control sk-hidden--visually\" id=\"sk-estimator-id-13\" type=\"checkbox\" ><label for=\"sk-estimator-id-13\" class=\"sk-toggleable__label sk-toggleable__label-arrow\">num</label><div class=\"sk-toggleable__content\"><pre>[&#x27;Fare&#x27;, &#x27;Total_rel&#x27;]</pre></div></div></div><div class=\"sk-serial\"><div class=\"sk-item\"><div class=\"sk-estimator sk-toggleable\"><input class=\"sk-toggleable__control sk-hidden--visually\" id=\"sk-estimator-id-14\" type=\"checkbox\" ><label for=\"sk-estimator-id-14\" class=\"sk-toggleable__label sk-toggleable__label-arrow\">StandardScaler</label><div class=\"sk-toggleable__content\"><pre>StandardScaler()</pre></div></div></div></div></div></div></div></div><div class=\"sk-item\"><div class=\"sk-estimator sk-toggleable\"><input class=\"sk-toggleable__control sk-hidden--visually\" id=\"sk-estimator-id-15\" type=\"checkbox\" ><label for=\"sk-estimator-id-15\" class=\"sk-toggleable__label sk-toggleable__label-arrow\">RandomForestClassifier</label><div class=\"sk-toggleable__content\"><pre>RandomForestClassifier(class_weight=&#x27;balanced&#x27;, criterion=&#x27;entropy&#x27;,\n",
       "                       max_depth=14, min_samples_leaf=2, min_samples_split=7,\n",
       "                       n_estimators=120, random_state=0)</pre></div></div></div></div></div></div></div>"
      ],
      "text/plain": [
       "Pipeline(steps=[('preprocessor',\n",
       "                 ColumnTransformer(transformers=[('cat',\n",
       "                                                  OneHotEncoder(drop='first',\n",
       "                                                                handle_unknown='ignore',\n",
       "                                                                sparse=False),\n",
       "                                                  ['Pclass', 'Sex', 'Embarked',\n",
       "                                                   'Age_cat']),\n",
       "                                                 ('num', StandardScaler(),\n",
       "                                                  ['Fare', 'Total_rel'])])),\n",
       "                ('model',\n",
       "                 RandomForestClassifier(class_weight='balanced',\n",
       "                                        criterion='entropy', max_depth=14,\n",
       "                                        min_samples_leaf=2, min_samples_split=7,\n",
       "                                        n_estimators=120, random_state=0))])"
      ]
     },
     "execution_count": 33,
     "metadata": {},
     "output_type": "execute_result"
    }
   ],
   "source": [
    "grid_forest.best_estimator_"
   ]
  },
  {
   "cell_type": "code",
   "execution_count": 34,
   "id": "4211597a",
   "metadata": {
    "execution": {
     "iopub.execute_input": "2023-08-19T14:22:26.750073Z",
     "iopub.status.busy": "2023-08-19T14:22:26.749734Z",
     "iopub.status.idle": "2023-08-19T14:22:26.755696Z",
     "shell.execute_reply": "2023-08-19T14:22:26.754232Z"
    },
    "papermill": {
     "duration": 0.021756,
     "end_time": "2023-08-19T14:22:26.758117",
     "exception": false,
     "start_time": "2023-08-19T14:22:26.736361",
     "status": "completed"
    },
    "tags": []
   },
   "outputs": [],
   "source": [
    "preprocessor = ColumnTransformer([\n",
    "    ('cat', OneHotEncoder(drop='first', handle_unknown='ignore', sparse=False), cat),\n",
    "    ('num', StandardScaler(), num)\n",
    "])\n",
    "\n",
    "pipe_forest_test = Pipeline([\n",
    "    ('preprocessor', preprocessor),\n",
    "    ('model', RandomForestClassifier(class_weight='balanced', criterion='entropy',\n",
    "                       max_depth=14, min_samples_leaf=2, min_samples_split=7,\n",
    "                       n_estimators=120, random_state=0))\n",
    "])"
   ]
  },
  {
   "cell_type": "code",
   "execution_count": 35,
   "id": "85ff8f13",
   "metadata": {
    "execution": {
     "iopub.execute_input": "2023-08-19T14:22:26.785772Z",
     "iopub.status.busy": "2023-08-19T14:22:26.785386Z",
     "iopub.status.idle": "2023-08-19T14:22:26.904504Z",
     "shell.execute_reply": "2023-08-19T14:22:26.903210Z"
    },
    "papermill": {
     "duration": 0.135182,
     "end_time": "2023-08-19T14:22:26.906713",
     "exception": false,
     "start_time": "2023-08-19T14:22:26.771531",
     "status": "completed"
    },
    "tags": []
   },
   "outputs": [],
   "source": [
    "pipe_forest_test.fit(train_features, train_target)\n",
    "predict_train = pipe_forest_test.predict(train_df)\n",
    "predict_test = pipe_forest_test.predict(test_df)"
   ]
  },
  {
   "cell_type": "code",
   "execution_count": 36,
   "id": "232063b0",
   "metadata": {},
   "outputs": [
    {
     "name": "stdout",
     "output_type": "stream",
     "text": [
      "Метка accuracy на тренировочном наборе данных: 0.8945005611672279\n"
     ]
    }
   ],
   "source": [
    "print('Метка accuracy на тренировочном наборе данных:', accuracy(train_target, predict_train))"
   ]
  },
  {
   "cell_type": "code",
   "execution_count": 37,
   "id": "fe6f02ff",
   "metadata": {
    "execution": {
     "iopub.execute_input": "2023-08-19T14:22:26.933724Z",
     "iopub.status.busy": "2023-08-19T14:22:26.933420Z",
     "iopub.status.idle": "2023-08-19T14:22:26.961591Z",
     "shell.execute_reply": "2023-08-19T14:22:26.959628Z"
    },
    "papermill": {
     "duration": 0.044592,
     "end_time": "2023-08-19T14:22:26.963987",
     "exception": false,
     "start_time": "2023-08-19T14:22:26.919395",
     "status": "completed"
    },
    "tags": []
   },
   "outputs": [],
   "source": [
    "output = pd.DataFrame({'PassengerId': test_df_copy['PassengerId'], # Вывод предсказаний в csv файл\n",
    "                       'Survived': predict_test}) \n",
    "output.to_csv('submission.csv', index=False)"
   ]
  }
 ],
 "metadata": {
  "kernelspec": {
   "display_name": "Python 3 (ipykernel)",
   "language": "python",
   "name": "python3"
  },
  "language_info": {
   "codemirror_mode": {
    "name": "ipython",
    "version": 3
   },
   "file_extension": ".py",
   "mimetype": "text/x-python",
   "name": "python",
   "nbconvert_exporter": "python",
   "pygments_lexer": "ipython3",
   "version": "3.11.3"
  },
  "papermill": {
   "default_parameters": {},
   "duration": 276.367145,
   "end_time": "2023-08-19T14:22:28.316795",
   "environment_variables": {},
   "exception": null,
   "input_path": "__notebook__.ipynb",
   "output_path": "__notebook__.ipynb",
   "parameters": {},
   "start_time": "2023-08-19T14:17:51.949650",
   "version": "2.4.0"
  }
 },
 "nbformat": 4,
 "nbformat_minor": 5
}
